{
 "cells": [
  {
   "cell_type": "code",
   "execution_count": null,
   "id": "f33fed0a",
   "metadata": {},
   "outputs": [],
   "source": [
    "import cv2\n",
    "import os\n",
    "import numpy as np\n",
    "from ultralytics import YOLO"
   ]
  },
  {
   "cell_type": "code",
   "execution_count": null,
   "id": "4fb9dfe0",
   "metadata": {},
   "outputs": [],
   "source": [
    "def draw_box(img, xyxy, conf, cls_name):\n",
    "    x1, y1, x2, y2 = map(int, xyxy)\n",
    "    label = '{:.2f}'.format(conf)\n",
    "    cv2.rectangle(img, (x1, y1), (x2, y2), (0, 200, 0), 2)\n",
    "    (w, h), _ = cv2.getTextSize(label, cv2.FONT_HERSHEY_SIMPLEX, 0.5, 1)\n",
    "    cv2.rectangle(img, (x1, y1 - h - 6), (x1 + w, y1), (0, 200, 0), -1)\n",
    "    cv2.putText(img, label, (x1, y1 - 4), cv2.FONT_HERSHEY_SIMPLEX, 0.5, (0,0,0), 1)"
   ]
  },
  {
   "cell_type": "code",
   "execution_count": 34,
   "id": "3257d8b0",
   "metadata": {},
   "outputs": [],
   "source": [
    "def process_image(model, img_path, out_dir=r'../result/', conf_threshold=0.25):\n",
    "    img = cv2.imread(img_path)\n",
    "    if img is None:\n",
    "        raise FileNotFoundError(img_path)\n",
    "    results = model(img, conf=conf_threshold, imgsz=640)\n",
    "    r = results[0]\n",
    "    names = model.names\n",
    "    car_class_ids = [k for k, v in names.items() if v.lower() == 'car']\n",
    "    car_ids_set = set(car_class_ids)\n",
    "\n",
    "    for box in r.boxes:\n",
    "        cls_id = int(box.cls.cpu().numpy()) if hasattr(box, 'cls') else int(box.cls)\n",
    "        conf = float(box.conf.cpu().numpy()) if hasattr(box, 'conf') else float(box.conf)\n",
    "        xyxy = box.xyxy.cpu().numpy().reshape(-1) if hasattr(box, 'xyxy') else box.xyxy\n",
    "        if cls_id in car_ids_set:\n",
    "            cls_name = names[cls_id]\n",
    "            draw_box(img, xyxy, conf, cls_name)\n",
    "\n",
    "    os.makedirs(out_dir, exist_ok=True)\n",
    "    out_path = os.path.join(out_dir, os.path.basename(img_path))\n",
    "    cv2.imwrite(out_path, img)\n",
    "    print('Saved:', out_path)\n",
    "    return out_path"
   ]
  },
  {
   "cell_type": "code",
   "execution_count": null,
   "id": "4a8fd2aa",
   "metadata": {},
   "outputs": [],
   "source": [
    "def main():\n",
    "    yolo_versions = ('n', 's', 'm', 'l', 'x')\n",
    "    version = yolo_versions[2]\n",
    "    image_path = r\"\"\n",
    "\n",
    "    model = YOLO('yolo11{}.pt'.format(version))\n",
    "    process_image(model, image_path)"
   ]
  },
  {
   "cell_type": "code",
   "execution_count": 35,
   "id": "409650d0",
   "metadata": {},
   "outputs": [
    {
     "name": "stdout",
     "output_type": "stream",
     "text": [
      "\n",
      "0: 384x640 42 cars, 346.3ms\n",
      "Speed: 2.9ms preprocess, 346.3ms inference, 7.6ms postprocess per image at shape (1, 3, 384, 640)\n",
      "Saved: ../result/1.jpg\n"
     ]
    },
    {
     "name": "stderr",
     "output_type": "stream",
     "text": [
      "C:\\Users\\da1zy\\AppData\\Local\\Temp\\ipykernel_13400\\2780654300.py:12: DeprecationWarning: Conversion of an array with ndim > 0 to a scalar is deprecated, and will error in future. Ensure you extract a single element from your array before performing this operation. (Deprecated NumPy 1.25.)\n",
      "  cls_id = int(box.cls.cpu().numpy()) if hasattr(box, 'cls') else int(box.cls)\n",
      "C:\\Users\\da1zy\\AppData\\Local\\Temp\\ipykernel_13400\\2780654300.py:13: DeprecationWarning: Conversion of an array with ndim > 0 to a scalar is deprecated, and will error in future. Ensure you extract a single element from your array before performing this operation. (Deprecated NumPy 1.25.)\n",
      "  conf = float(box.conf.cpu().numpy()) if hasattr(box, 'conf') else float(box.conf)\n"
     ]
    }
   ],
   "source": [
    "main()"
   ]
  },
  {
   "cell_type": "code",
   "execution_count": null,
   "id": "c1dbf093",
   "metadata": {},
   "outputs": [],
   "source": []
  }
 ],
 "metadata": {
  "kernelspec": {
   "display_name": "Python 3",
   "language": "python",
   "name": "python3"
  },
  "language_info": {
   "codemirror_mode": {
    "name": "ipython",
    "version": 3
   },
   "file_extension": ".py",
   "mimetype": "text/x-python",
   "name": "python",
   "nbconvert_exporter": "python",
   "pygments_lexer": "ipython3",
   "version": "3.13.5"
  }
 },
 "nbformat": 4,
 "nbformat_minor": 5
}
